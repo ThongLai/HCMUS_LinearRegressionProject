{
 "cells": [
  {
   "cell_type": "markdown",
   "metadata": {},
   "source": [
    "# <center>Đồ án 3: Linear Regression</center>"
   ]
  },
  {
   "cell_type": "markdown",
   "metadata": {},
   "source": [
    "# Thông tin sinh viên\n",
    "\n",
    "- Họ và tên: Lại Minh Thông\n",
    "- MSSV: 20127635\n",
    "- Lớp: 20CLC03\n"
   ]
  },
  {
   "cell_type": "markdown",
   "metadata": {},
   "source": [
    "# Import"
   ]
  },
  {
   "cell_type": "code",
   "execution_count": 13,
   "metadata": {},
   "outputs": [],
   "source": [
    "import pandas as pd\n",
    "import numpy as np\n",
    "# Import thêm dữ thư viện nếu cần"
   ]
  },
  {
   "cell_type": "markdown",
   "metadata": {},
   "source": [
    "# Đọc dữ liệu"
   ]
  },
  {
   "cell_type": "code",
   "execution_count": 14,
   "metadata": {},
   "outputs": [],
   "source": [
    "# Đọc dữ liệu bằng pandas\n",
    "train = pd.read_csv('train.csv')\n",
    "test = pd.read_csv('test.csv')\n",
    "\n",
    "# Lấy các đặc trưng X và giá trị mục tiêu y cho các tập huấn luyện (train) và kiểm tra (test)\n",
    "X_train = train.iloc[:, :-1]    # Dataframe (chứa 10 đặc trưng huấn luyện)\n",
    "y_train = train.iloc[:, -1]     # Series    (chứa 1 giá trị mục tiêu kiểm tra)\n",
    "\n",
    "X_test = test.iloc[:, :-1]      # Dataframe (chứa 10 đặc trưng kiểm tra)\n",
    "y_test = test.iloc[:, -1]       # Series    (chứa 1 giá trị mục tiêu kiểm tra)\n",
    "\n",
    "# Sinh viên có thể sử dụng cách khác nếu cần\n",
    "thetas=[\"$$𝜃_0$$\", \"$$𝜃_1$$\", \"$$𝜃_2$$\", \"$$𝜃_3$$\", \"$$𝜃_4$$\", \"$$𝜃_5$$\", \"$$𝜃_6$$\", \"$$𝜃_7$$\", \"$$𝜃_8$$\", \"$$𝜃_9$$\"]"
   ]
  },
  {
   "cell_type": "markdown",
   "metadata": {},
   "source": [
    "# Cài đặt hàm"
   ]
  },
  {
   "cell_type": "code",
   "execution_count": 15,
   "metadata": {},
   "outputs": [],
   "source": [
    "# Cài đặt các hàm cần thiết ở đây\n",
    "\n",
    "def displayThetas(lr):\n",
    "    values = lr.get_params()\n",
    "    display(pd.DataFrame([values]).set_axis(thetas[:len(values)], axis=1).style.hide())\n",
    "\n",
    "class OLSLinearRegression:\n",
    "    def fit(self, X, y):\n",
    "        X_pinv = np.linalg.inv(X.T @ X) @ X.T    # np.linalg.pinv(X)\n",
    "        self.w = X_pinv @ y\n",
    "\n",
    "        return self\n",
    "\n",
    "    def get_params(self):\n",
    "        return self.w\n",
    "\n",
    "\n",
    "    def predict(self, X):\n",
    "        return np.sum(self.w.ravel() * X, axis=1)\n",
    "\n",
    "def rmse(y, y_hat):\n",
    "    return np.mean((y.ravel() - y_hat.ravel())**2)**0.5\n",
    "\n",
    "def kFold(k, X, y):\n",
    "    # Random data\n",
    "    radIdx = np.arange(0, X.shape[0])\n",
    "    np.random.shuffle(radIdx)\n",
    "    X = (X.T[radIdx].T).reset_index(drop=True)    \n",
    "    y = (y.T[radIdx].T).reset_index(drop=True)\n",
    "\n",
    "    # Split data into k groups\n",
    "    splitIdx = (X.shape[0] / k * np.arange(1, k)).astype(int)\n",
    "    X = np.array_split(X, splitIdx)\n",
    "    y = np.array_split(y, splitIdx)\n",
    "    \n",
    "    X = np.repeat([X], k, axis=0)\n",
    "    y = np.repeat([y], k, axis=0)\n",
    "    \n",
    "    Xtrain = X[~np.eye(k, dtype=bool)]\n",
    "    Xtrain = np.concatenate(Xtrain, 0)\n",
    "    Xtrain = np.array(np.array_split(Xtrain, k))\n",
    "    \n",
    "    ytrain = y[~np.eye(k, dtype=bool)]\n",
    "    ytrain = np.concatenate(ytrain, 0)\n",
    "    ytrain = np.array(np.array_split(ytrain, k))\n",
    "    \n",
    "    Xtest = X[np.eye(k, dtype=bool)]\n",
    "    ytest = y[np.eye(k, dtype=bool)]\n",
    "    \n",
    "\n",
    "    return Xtrain, ytrain, Xtest, ytest\n",
    "\n",
    "def aveRMSE_CV_best_feature_model(k, X, y):\n",
    "    featuresNum = X.shape[1]\n",
    "    Xtrain, ytrain, Xtest, ytest = kFold(k, X, y)\n",
    "    \n",
    "    #Evaluate the RMSE correspond to to each feature\n",
    "    AveRMSE = np.zeros(featuresNum)\n",
    "    for i in range(0, featuresNum):\n",
    "        for j in range(0, k):\n",
    "            lr = OLSLinearRegression().fit(Xtrain[j, :, i, None], ytrain[j])\n",
    "            \n",
    "            y_hat = lr.predict(Xtest[j, :, i, None])\n",
    "            AveRMSE[i] += rmse(ytest[j], y_hat)\n",
    "        AveRMSE[i] /= featuresNum\n",
    "        \n",
    "    return AveRMSE\n",
    "\n",
    "def aveRMSE_CV(k, X, y):\n",
    "    Xtrain, ytrain, Xtest, ytest = kFold(k, X, y)\n",
    "    \n",
    "    #Evaluate the RMSE for the model\n",
    "    X_pinv = np.linalg.inv(Xtrain.transpose(0, 2, 1) @ Xtrain) @ Xtrain.transpose(0, 2, 1)\n",
    "    weights = X_pinv @ np.expand_dims(ytrain, 2)\n",
    "    y_hat = np.sum(weights.transpose(0, 2, 1) * Xtest, axis=2)\n",
    "    AveRMSE = rmse(ytest, y_hat)\n",
    "\n",
    "    return AveRMSE"
   ]
  },
  {
   "cell_type": "markdown",
   "metadata": {},
   "source": [
    "# Yêu cầu 1a: Sử dụng toàn bộ 10 đặc trưng đề bài cung cấp (2 điểm) "
   ]
  },
  {
   "cell_type": "code",
   "execution_count": 16,
   "metadata": {
    "scrolled": true
   },
   "outputs": [
    {
     "data": {
      "text/html": [
       "<style type=\"text/css\">\n",
       "</style>\n",
       "<table id=\"T_9ea6c\">\n",
       "  <thead>\n",
       "    <tr>\n",
       "      <th id=\"T_9ea6c_level0_col0\" class=\"col_heading level0 col0\" >$$𝜃_0$$</th>\n",
       "      <th id=\"T_9ea6c_level0_col1\" class=\"col_heading level0 col1\" >$$𝜃_1$$</th>\n",
       "      <th id=\"T_9ea6c_level0_col2\" class=\"col_heading level0 col2\" >$$𝜃_2$$</th>\n",
       "      <th id=\"T_9ea6c_level0_col3\" class=\"col_heading level0 col3\" >$$𝜃_3$$</th>\n",
       "      <th id=\"T_9ea6c_level0_col4\" class=\"col_heading level0 col4\" >$$𝜃_4$$</th>\n",
       "      <th id=\"T_9ea6c_level0_col5\" class=\"col_heading level0 col5\" >$$𝜃_5$$</th>\n",
       "      <th id=\"T_9ea6c_level0_col6\" class=\"col_heading level0 col6\" >$$𝜃_6$$</th>\n",
       "      <th id=\"T_9ea6c_level0_col7\" class=\"col_heading level0 col7\" >$$𝜃_7$$</th>\n",
       "      <th id=\"T_9ea6c_level0_col8\" class=\"col_heading level0 col8\" >$$𝜃_8$$</th>\n",
       "      <th id=\"T_9ea6c_level0_col9\" class=\"col_heading level0 col9\" >$$𝜃_9$$</th>\n",
       "    </tr>\n",
       "  </thead>\n",
       "  <tbody>\n",
       "    <tr>\n",
       "      <td id=\"T_9ea6c_row0_col0\" class=\"data row0 col0\" >0.015101</td>\n",
       "      <td id=\"T_9ea6c_row0_col1\" class=\"data row0 col1\" >0.090220</td>\n",
       "      <td id=\"T_9ea6c_row0_col2\" class=\"data row0 col2\" >0.042922</td>\n",
       "      <td id=\"T_9ea6c_row0_col3\" class=\"data row0 col3\" >0.139289</td>\n",
       "      <td id=\"T_9ea6c_row0_col4\" class=\"data row0 col4\" >-0.567333</td>\n",
       "      <td id=\"T_9ea6c_row0_col5\" class=\"data row0 col5\" >-0.000101</td>\n",
       "      <td id=\"T_9ea6c_row0_col6\" class=\"data row0 col6\" >0.740713</td>\n",
       "      <td id=\"T_9ea6c_row0_col7\" class=\"data row0 col7\" >0.190936</td>\n",
       "      <td id=\"T_9ea6c_row0_col8\" class=\"data row0 col8\" >24.505974</td>\n",
       "      <td id=\"T_9ea6c_row0_col9\" class=\"data row0 col9\" >2.393517</td>\n",
       "    </tr>\n",
       "  </tbody>\n",
       "</table>\n"
      ],
      "text/plain": [
       "<pandas.io.formats.style.Styler at 0x1a2cf739250>"
      ]
     },
     "metadata": {},
     "output_type": "display_data"
    }
   ],
   "source": [
    "# Phần code cho yêu cầu 1a\n",
    "lr = OLSLinearRegression().fit(X_train, y_train)\n",
    "displayThetas(lr)"
   ]
  },
  {
   "cell_type": "code",
   "execution_count": 17,
   "metadata": {},
   "outputs": [
    {
     "data": {
      "text/plain": [
       "7.064046430584032"
      ]
     },
     "execution_count": 17,
     "metadata": {},
     "output_type": "execute_result"
    }
   ],
   "source": [
    "# Gọi hàm RMSE (tự cài đặt hoặc từ thư viện) trên tập kiểm tra\n",
    "y_hat = lr.predict(X_test)\n",
    "rmse(y_test, y_hat)"
   ]
  },
  {
   "cell_type": "markdown",
   "metadata": {},
   "source": [
    "Công thức hồi quy\n",
    "\n",
    "$$\\text{Life expectancy} = \\theta_0*(\\text{Adult Mortality}) + \\theta_1*(\\text{BMI}) + \\theta_2*(\\text{Polio}) + \\theta_3*(\\text{Diphtheria}) + \\theta_4*(\\text{HIV/AIDS}) + \\theta_5*(\\text{GDP}) + \\theta_6*(\\text{Thinness age 10-19}) + \\theta_7*(\\text{Thinness age 5-9}) + \\theta_8*(\\text{Income composition of resources}) + \\theta_9*(\\text{Schooling})$$"
   ]
  },
  {
   "cell_type": "markdown",
   "metadata": {},
   "source": [
    "# Yêu cầu 1b: Xây dựng mô hình sử dụng duy nhất 1 đặc trưng, tìm mô hình cho kết quả tốt nhất (2 điểm)"
   ]
  },
  {
   "cell_type": "markdown",
   "metadata": {},
   "source": [
    "Lưu ý: khi sử dụng cross-validation, sinh viên cần xáo trộn dữ liệu 1 lần duy nhất và thực hiện trên toàn bộ đặc trưng"
   ]
  },
  {
   "cell_type": "code",
   "execution_count": 18,
   "metadata": {
    "scrolled": false
   },
   "outputs": [
    {
     "name": "stdout",
     "output_type": "stream",
     "text": [
      "Best Feature:  Schooling\n",
      "RMSE Value:  5.889208903410413\n"
     ]
    },
    {
     "data": {
      "text/html": [
       "<div>\n",
       "<style scoped>\n",
       "    .dataframe tbody tr th:only-of-type {\n",
       "        vertical-align: middle;\n",
       "    }\n",
       "\n",
       "    .dataframe tbody tr th {\n",
       "        vertical-align: top;\n",
       "    }\n",
       "\n",
       "    .dataframe thead th {\n",
       "        text-align: right;\n",
       "    }\n",
       "</style>\n",
       "<table border=\"1\" class=\"dataframe\">\n",
       "  <thead>\n",
       "    <tr style=\"text-align: right;\">\n",
       "      <th></th>\n",
       "      <th>Mô hình với 1 đặc trưng</th>\n",
       "      <th>RMSE</th>\n",
       "    </tr>\n",
       "    <tr>\n",
       "      <th>STT</th>\n",
       "      <th></th>\n",
       "      <th></th>\n",
       "    </tr>\n",
       "  </thead>\n",
       "  <tbody>\n",
       "    <tr>\n",
       "      <th>1</th>\n",
       "      <td>Adult Mortality</td>\n",
       "      <td>23.10496</td>\n",
       "    </tr>\n",
       "    <tr>\n",
       "      <th>2</th>\n",
       "      <td>BMI</td>\n",
       "      <td>13.977037</td>\n",
       "    </tr>\n",
       "    <tr>\n",
       "      <th>3</th>\n",
       "      <td>Polio</td>\n",
       "      <td>9.012443</td>\n",
       "    </tr>\n",
       "    <tr>\n",
       "      <th>4</th>\n",
       "      <td>Diphtheria</td>\n",
       "      <td>8.001979</td>\n",
       "    </tr>\n",
       "    <tr>\n",
       "      <th>5</th>\n",
       "      <td>HIV/AIDS</td>\n",
       "      <td>33.542162</td>\n",
       "    </tr>\n",
       "    <tr>\n",
       "      <th>6</th>\n",
       "      <td>GDP</td>\n",
       "      <td>30.093772</td>\n",
       "    </tr>\n",
       "    <tr>\n",
       "      <th>7</th>\n",
       "      <td>Thinness age 10-19</td>\n",
       "      <td>25.918221</td>\n",
       "    </tr>\n",
       "    <tr>\n",
       "      <th>8</th>\n",
       "      <td>Thinness age 5-9</td>\n",
       "      <td>25.846069</td>\n",
       "    </tr>\n",
       "    <tr>\n",
       "      <th>9</th>\n",
       "      <td>Income composition of resources</td>\n",
       "      <td>6.624262</td>\n",
       "    </tr>\n",
       "    <tr>\n",
       "      <th>10</th>\n",
       "      <td>Schooling</td>\n",
       "      <td>5.889209</td>\n",
       "    </tr>\n",
       "  </tbody>\n",
       "</table>\n",
       "</div>"
      ],
      "text/plain": [
       "             Mô hình với 1 đặc trưng       RMSE\n",
       "STT                                            \n",
       "1                    Adult Mortality   23.10496\n",
       "2                                BMI  13.977037\n",
       "3                              Polio   9.012443\n",
       "4                         Diphtheria   8.001979\n",
       "5                           HIV/AIDS  33.542162\n",
       "6                                GDP  30.093772\n",
       "7                 Thinness age 10-19  25.918221\n",
       "8                   Thinness age 5-9  25.846069\n",
       "9    Income composition of resources   6.624262\n",
       "10                         Schooling   5.889209"
      ]
     },
     "metadata": {},
     "output_type": "display_data"
    }
   ],
   "source": [
    "# Phần code cho yêu cầu 1b\n",
    "# Tìm ra đặc trưng tốt nhất\n",
    "CVData = np.array([X_train.columns, aveRMSE_CV_best_feature_model(5, X_train, y_train)])\n",
    "CVdf = pd.DataFrame(CVData.T, columns=[\"Mô hình với 1 đặc trưng\", \"RMSE\"])\n",
    "CVdf.index = pd.RangeIndex(stop=CVdf.shape[0], name=\"STT\") + 1\n",
    "\n",
    "SortedFeatures = CVdf.sort_values([\"RMSE\"], ignore_index=True)\n",
    "\n",
    "# In ra các kết quả cross-validation như yêu cầu\n",
    "print(\"Best Feature: \", SortedFeatures.iloc[0, 0])\n",
    "print(\"RMSE Value: \", SortedFeatures.iloc[0, 1])\n",
    "display(CVdf)"
   ]
  },
  {
   "cell_type": "code",
   "execution_count": 19,
   "metadata": {},
   "outputs": [
    {
     "data": {
      "text/html": [
       "<style type=\"text/css\">\n",
       "</style>\n",
       "<table id=\"T_4059b\">\n",
       "  <thead>\n",
       "    <tr>\n",
       "      <th id=\"T_4059b_level0_col0\" class=\"col_heading level0 col0\" >$$𝜃_0$$</th>\n",
       "    </tr>\n",
       "  </thead>\n",
       "  <tbody>\n",
       "    <tr>\n",
       "      <td id=\"T_4059b_row0_col0\" class=\"data row0 col0\" >5.557399</td>\n",
       "    </tr>\n",
       "  </tbody>\n",
       "</table>\n"
      ],
      "text/plain": [
       "<pandas.io.formats.style.Styler at 0x1a2eaa40c70>"
      ]
     },
     "metadata": {},
     "output_type": "display_data"
    }
   ],
   "source": [
    "# Huấn luyện lại mô hình best_feature_model với đặc trưng tốt nhất trên toàn bộ tập huấn luyện\n",
    "Xbest_train = X_train[SortedFeatures.iloc[[0], 0]]\n",
    "\n",
    "lr = OLSLinearRegression().fit(Xbest_train, y_train)\n",
    "pd.DataFrame([lr.get_params()]).set_axis([thetas[0]], axis=1).style.hide()\n",
    "displayThetas(lr)"
   ]
  },
  {
   "cell_type": "code",
   "execution_count": 20,
   "metadata": {},
   "outputs": [
    {
     "data": {
      "text/plain": [
       "10.26095039165537"
      ]
     },
     "execution_count": 20,
     "metadata": {},
     "output_type": "execute_result"
    }
   ],
   "source": [
    "# Gọi hàm RMSE (tự cài đặt hoặc từ thư viện) trên tập kiểm tra với mô hình best_feature_model\n",
    "Xbest_test = X_test[SortedFeatures.iloc[[0], 0]]\n",
    "\n",
    "y_hat = lr.predict(Xbest_test)\n",
    "rmse(y_test, y_hat)"
   ]
  },
  {
   "cell_type": "markdown",
   "metadata": {},
   "source": [
    "Công thức hồi quy\n",
    "\n",
    "$$\\text{Life expectancy} = \\theta*(\\text{Schooling})$$"
   ]
  },
  {
   "cell_type": "markdown",
   "metadata": {},
   "source": [
    "# Yêu cầu 1c: Sinh viên tự xây dựng mô hình, tìm mô hình cho kết quả tốt nhất (3 điểm)"
   ]
  },
  {
   "cell_type": "markdown",
   "metadata": {},
   "source": [
    "Lưu ý: khi sử dụng cross-validation, sinh viên cần xáo trộn dữ liệu 1 lần duy nhất và thực hiện trên toàn bộ $m$ mô hình mà sinh viên thiết kế"
   ]
  },
  {
   "cell_type": "code",
   "execution_count": 21,
   "metadata": {
    "scrolled": true
   },
   "outputs": [
    {
     "name": "stdout",
     "output_type": "stream",
     "text": [
      "Best Model:  Hai đặc trưng tốt nhất mũ 1/4\n",
      "RMSE Value:  3.96740530107112\n"
     ]
    },
    {
     "data": {
      "text/html": [
       "<div>\n",
       "<style scoped>\n",
       "    .dataframe tbody tr th:only-of-type {\n",
       "        vertical-align: middle;\n",
       "    }\n",
       "\n",
       "    .dataframe tbody tr th {\n",
       "        vertical-align: top;\n",
       "    }\n",
       "\n",
       "    .dataframe thead th {\n",
       "        text-align: right;\n",
       "    }\n",
       "</style>\n",
       "<table border=\"1\" class=\"dataframe\">\n",
       "  <thead>\n",
       "    <tr style=\"text-align: right;\">\n",
       "      <th></th>\n",
       "      <th>Mô hình</th>\n",
       "      <th>RMSE</th>\n",
       "    </tr>\n",
       "    <tr>\n",
       "      <th>STT</th>\n",
       "      <th></th>\n",
       "      <th></th>\n",
       "    </tr>\n",
       "  </thead>\n",
       "  <tbody>\n",
       "    <tr>\n",
       "      <th>0</th>\n",
       "      <td>Tuyến tính gốc</td>\n",
       "      <td>7.876819</td>\n",
       "    </tr>\n",
       "    <tr>\n",
       "      <th>1</th>\n",
       "      <td>Một đặc trưng tốt nhất mũ 2</td>\n",
       "      <td>8.865458</td>\n",
       "    </tr>\n",
       "    <tr>\n",
       "      <th>2</th>\n",
       "      <td>Một đặc trưng tốt nhất mũ 1/2</td>\n",
       "      <td>5.283063</td>\n",
       "    </tr>\n",
       "    <tr>\n",
       "      <th>3</th>\n",
       "      <td>Hai đặc trưng tốt nhất mũ 1/2</td>\n",
       "      <td>5.192647</td>\n",
       "    </tr>\n",
       "    <tr>\n",
       "      <th>4</th>\n",
       "      <td>Hai đặc trưng tốt nhất mũ 1/4</td>\n",
       "      <td>3.967405</td>\n",
       "    </tr>\n",
       "  </tbody>\n",
       "</table>\n",
       "</div>"
      ],
      "text/plain": [
       "                           Mô hình      RMSE\n",
       "STT                                         \n",
       "0                   Tuyến tính gốc  7.876819\n",
       "1      Một đặc trưng tốt nhất mũ 2  8.865458\n",
       "2    Một đặc trưng tốt nhất mũ 1/2  5.283063\n",
       "3    Hai đặc trưng tốt nhất mũ 1/2  5.192647\n",
       "4    Hai đặc trưng tốt nhất mũ 1/4  3.967405"
      ]
     },
     "metadata": {},
     "output_type": "display_data"
    }
   ],
   "source": [
    "# Phần code cho yêu cầu 1c\n",
    "\n",
    "# Tìm ra mô hình tốt nhất (tự thiết kế bởi sinh viên)\n",
    "\n",
    "# Mô hình 1 - Một đặc trưng tốt nhất mũ 2\n",
    "X1_train = pd.concat([X_train[SortedFeatures.iloc[1:, 0]], X_train[SortedFeatures.iloc[0:1, 0]]**(2)], axis=1)\n",
    "X1_test = pd.concat([X_test[SortedFeatures.iloc[1:, 0]], X_test[SortedFeatures.iloc[0:1, 0]]**(2)], axis=1)\n",
    "\n",
    "# Mô hình 2 - Một đặc trưng tốt nhất mũ 1/2\n",
    "X2_train = pd.concat([X_train[SortedFeatures.iloc[1:, 0]], X_train[SortedFeatures.iloc[0:1, 0]]**(1/2)], axis=1)\n",
    "X2_test = pd.concat([X_test[SortedFeatures.iloc[1:, 0]], X_test[SortedFeatures.iloc[0:1, 0]]**(1/2)], axis=1)\n",
    "\n",
    "# Mô hình 3 - Hai đặc trưng tốt nhất mũ 1/2\n",
    "X3_train = pd.concat([X_train[SortedFeatures.iloc[2:, 0]], X_train[SortedFeatures.iloc[0:2, 0]]**(1/2)], axis=1)\n",
    "X3_test = pd.concat([X_test[SortedFeatures.iloc[2:, 0]], X_test[SortedFeatures.iloc[0:2, 0]]**(1/2)], axis=1)\n",
    "\n",
    "# Mô hình 4 - Hai đặc trưng tốt nhất mũ 1/4\n",
    "X4_train = pd.concat([X_train[SortedFeatures.iloc[2:, 0]], X_train[SortedFeatures.iloc[0:2, 0]]**(1/4)], axis=1)\n",
    "X4_test = pd.concat([X_test[SortedFeatures.iloc[2:, 0]], X_test[SortedFeatures.iloc[0:2, 0]]**(1/4)], axis=1)\n",
    "\n",
    "ModelNames = pd.Series([\n",
    "    \"Tuyến tính gốc\",\n",
    "    \"Một đặc trưng tốt nhất mũ 2\",\n",
    "    \"Một đặc trưng tốt nhất mũ 1/2\",\n",
    "    \"Hai đặc trưng tốt nhất mũ 1/2\",\n",
    "    \"Hai đặc trưng tốt nhất mũ 1/4\",\n",
    "])\n",
    "\n",
    "ModelData = [\n",
    "    aveRMSE_CV(5, X_train, y_train), \n",
    "    aveRMSE_CV(5, X1_train, y_train), \n",
    "    aveRMSE_CV(5, X2_train, y_train),\n",
    "    aveRMSE_CV(5, X3_train, y_train),\n",
    "    aveRMSE_CV(5, X4_train, y_train),\n",
    "]\n",
    "\n",
    "CVModelData = np.array([ModelNames, ModelData])\n",
    "CVModeldf = pd.DataFrame(CVModelData.T, columns=[\"Mô hình\", \"RMSE\"])\n",
    "CVModeldf.index = pd.RangeIndex(stop=CVModeldf.shape[0], name=\"STT\")\n",
    "\n",
    "SortedModels = CVModeldf.sort_values([\"RMSE\"], ignore_index=True)\n",
    "\n",
    "# In ra các kết quả cross-validation như yêu cầu\n",
    "print(\"Best Model: \", SortedModels.iloc[0, 0])\n",
    "print(\"RMSE Value: \", SortedModels.iloc[0, 1])\n",
    "display(CVModeldf)"
   ]
  },
  {
   "cell_type": "code",
   "execution_count": 22,
   "metadata": {},
   "outputs": [
    {
     "data": {
      "text/html": [
       "<style type=\"text/css\">\n",
       "</style>\n",
       "<table id=\"T_c4d0d\">\n",
       "  <thead>\n",
       "    <tr>\n",
       "      <th id=\"T_c4d0d_level0_col0\" class=\"col_heading level0 col0\" >$$𝜃_0$$</th>\n",
       "      <th id=\"T_c4d0d_level0_col1\" class=\"col_heading level0 col1\" >$$𝜃_1$$</th>\n",
       "      <th id=\"T_c4d0d_level0_col2\" class=\"col_heading level0 col2\" >$$𝜃_2$$</th>\n",
       "      <th id=\"T_c4d0d_level0_col3\" class=\"col_heading level0 col3\" >$$𝜃_3$$</th>\n",
       "      <th id=\"T_c4d0d_level0_col4\" class=\"col_heading level0 col4\" >$$𝜃_4$$</th>\n",
       "      <th id=\"T_c4d0d_level0_col5\" class=\"col_heading level0 col5\" >$$𝜃_5$$</th>\n",
       "      <th id=\"T_c4d0d_level0_col6\" class=\"col_heading level0 col6\" >$$𝜃_6$$</th>\n",
       "      <th id=\"T_c4d0d_level0_col7\" class=\"col_heading level0 col7\" >$$𝜃_7$$</th>\n",
       "      <th id=\"T_c4d0d_level0_col8\" class=\"col_heading level0 col8\" >$$𝜃_8$$</th>\n",
       "      <th id=\"T_c4d0d_level0_col9\" class=\"col_heading level0 col9\" >$$𝜃_9$$</th>\n",
       "    </tr>\n",
       "  </thead>\n",
       "  <tbody>\n",
       "    <tr>\n",
       "      <td id=\"T_c4d0d_row0_col0\" class=\"data row0 col0\" >0.027189</td>\n",
       "      <td id=\"T_c4d0d_row0_col1\" class=\"data row0 col1\" >-0.000074</td>\n",
       "      <td id=\"T_c4d0d_row0_col2\" class=\"data row0 col2\" >0.044603</td>\n",
       "      <td id=\"T_c4d0d_row0_col3\" class=\"data row0 col3\" >-0.015186</td>\n",
       "      <td id=\"T_c4d0d_row0_col4\" class=\"data row0 col4\" >-0.052223</td>\n",
       "      <td id=\"T_c4d0d_row0_col5\" class=\"data row0 col5\" >0.006812</td>\n",
       "      <td id=\"T_c4d0d_row0_col6\" class=\"data row0 col6\" >0.000073</td>\n",
       "      <td id=\"T_c4d0d_row0_col7\" class=\"data row0 col7\" >-0.564032</td>\n",
       "      <td id=\"T_c4d0d_row0_col8\" class=\"data row0 col8\" >35.210323</td>\n",
       "      <td id=\"T_c4d0d_row0_col9\" class=\"data row0 col9\" >3.838126</td>\n",
       "    </tr>\n",
       "  </tbody>\n",
       "</table>\n"
      ],
      "text/plain": [
       "<pandas.io.formats.style.Styler at 0x1a2e7a05dc0>"
      ]
     },
     "metadata": {},
     "output_type": "display_data"
    }
   ],
   "source": [
    "# Huấn luyện lại mô hình my_best_model trên toàn bộ tập huấn luyện\n",
    "XModels_train = [X_train, X1_train, X2_train, X3_train, X4_train]\n",
    "XModels_test = [X_test, X1_test, X2_test, X3_test, X4_test]\n",
    "\n",
    "BestModelIndx = pd.Index(ModelNames).get_loc(SortedModels.iloc[0, 0])\n",
    "\n",
    "lr = OLSLinearRegression().fit(XModels_train[BestModelIndx], y_train)\n",
    "displayThetas(lr)"
   ]
  },
  {
   "cell_type": "code",
   "execution_count": 23,
   "metadata": {},
   "outputs": [
    {
     "data": {
      "text/plain": [
       "3.8706071903223678"
      ]
     },
     "execution_count": 23,
     "metadata": {},
     "output_type": "execute_result"
    }
   ],
   "source": [
    "# Gọi hàm RMSE (tự cài đặt hoặc từ thư viện) trên tập kiểm tra với mô hình my_best_model\n",
    "y_hat = lr.predict(XModels_test[BestModelIndx])\n",
    "rmse(y_test, y_hat)"
   ]
  },
  {
   "cell_type": "markdown",
   "metadata": {},
   "source": [
    "Công thức hồi quy\n",
    "\n",
    "Mô hình 1 - Một đặc trưng tốt nhất mũ 2:\n",
    "$$\\text{Life expectancy} = \\theta_0*(\\text{Adult Mortality}) + \\theta_1*(\\text{BMI}) + \\theta_2*(\\text{Polio}) + \\theta_3*(\\text{Diphtheria}) + \\theta_4*(\\text{HIV/AIDS}) + \\theta_5*(\\text{GDP}) + \\theta_6*(\\text{Thinness age 10-19}) + \\theta_7*(\\text{Thinness age 5-9}) + \\theta_8*(\\text{Income composition of resources}) + \\theta_9*(\\text{Schooling})^2$$\n",
    "\n",
    "Mô hình 2 - Một đặc trưng tốt nhất mũ 1/2:\n",
    "$$\\text{Life expectancy} = \\theta_0*(\\text{Adult Mortality}) + \\theta_1*(\\text{BMI}) + \\theta_2*(\\text{Polio}) + \\theta_3*(\\text{Diphtheria}) + \\theta_4*(\\text{HIV/AIDS}) + \\theta_5*(\\text{GDP}) + \\theta_6*(\\text{Thinness age 10-19}) + \\theta_7*(\\text{Thinness age 5-9}) + \\theta_8*(\\text{Income composition of resources}) + \\theta_9*(\\text{Schooling})^\\frac{1}{2}$$\n",
    "\n",
    "Mô hình 3 - Hai đặc trưng tốt nhất mũ 1/2:\n",
    "$$\\text{Life expectancy} = \\theta_0*(\\text{Adult Mortality}) + \\theta_1*(\\text{BMI}) + \\theta_2*(\\text{Polio}) + \\theta_3*(\\text{Diphtheria}) + \\theta_4*(\\text{HIV/AIDS}) + \\theta_5*(\\text{GDP}) + \\theta_6*(\\text{Thinness age 10-19}) + \\theta_7*(\\text{Thinness age 5-9}) + \\theta_8*(\\text{Income composition of resources})^\\frac{1}{2} + \\theta_9*(\\text{Schooling})^\\frac{1}{2}$$\n",
    "\n",
    "Mô hình 4 - Hai Đặc trưng tốt nhất mũ 1/4:\n",
    "$$\\text{Life expectancy} = \\theta_0*(\\text{Adult Mortality}) + \\theta_1*(\\text{BMI}) + \\theta_2*(\\text{Polio}) + \\theta_3*(\\text{Diphtheria}) + \\theta_4*(\\text{HIV/AIDS}) + \\theta_5*(\\text{GDP}) + \\theta_6*(\\text{Thinness age 10-19}) + \\theta_7*(\\text{Thinness age 5-9}) + \\theta_8*(\\text{Income composition of resources})^\\frac{1}{4} + \\theta_9*(\\text{Schooling})^\\frac{1}{4}$$"
   ]
  }
 ],
 "metadata": {
  "kernelspec": {
   "display_name": "Python 3 (ipykernel)",
   "language": "python",
   "name": "python3"
  },
  "language_info": {
   "codemirror_mode": {
    "name": "ipython",
    "version": 3
   },
   "file_extension": ".py",
   "mimetype": "text/x-python",
   "name": "python",
   "nbconvert_exporter": "python",
   "pygments_lexer": "ipython3",
   "version": "3.9.12"
  },
  "vscode": {
   "interpreter": {
    "hash": "15af99fd1a1a3f0a3416ea421564e792a8676a13670c2eed127d89ab0518a27b"
   }
  }
 },
 "nbformat": 4,
 "nbformat_minor": 2
}
